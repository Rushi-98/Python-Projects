{
 "cells": [
  {
   "cell_type": "markdown",
   "metadata": {},
   "source": [
    "### Step 1: Importing Libraries"
   ]
  },
  {
   "cell_type": "code",
   "execution_count": 1,
   "metadata": {
    "id": "jGqrm9nn-e3r"
   },
   "outputs": [],
   "source": [
    "import pandas as pd\n",
    "import numpy as np\n",
    "import seaborn as sns\n",
    "import matplotlib.pyplot as plt\n",
    "from scipy import stats\n",
    "%matplotlib inline\n",
    "import warnings\n",
    "warnings.filterwarnings('ignore')\n",
    "from sklearn.linear_model import LinearRegression\n",
    "from sklearn.metrics import mean_squared_error\n",
    "from sklearn.metrics import r2_score\n",
    "from sklearn.model_selection import train_test_split\n",
    "from sklearn.preprocessing import LabelEncoder\n",
    "from sklearn.model_selection import cross_val_score\n",
    "from sklearn.preprocessing import PolynomialFeatures\n",
    "from sklearn.preprocessing import StandardScaler\n",
    "from sklearn.linear_model import Ridge\n",
    "from sklearn.model_selection import GridSearchCV\n",
    "from sklearn.linear_model import SGDRegressor"
   ]
  },
  {
   "cell_type": "code",
   "execution_count": 2,
   "metadata": {
    "id": "KztuUhu1-e3u"
   },
   "outputs": [],
   "source": [
    "df=pd.read_csv(r'C:\\Users\\91703\\Downloads\\Vehicle_Performance_Prediction.csv')"
   ]
  },
  {
   "cell_type": "code",
   "execution_count": 3,
   "metadata": {
    "id": "kCq4Uz-E-e3u",
    "outputId": "14337753-a3ac-4e92-9354-de828e3b6539"
   },
   "outputs": [
    {
     "data": {
      "text/html": [
       "<div>\n",
       "<style scoped>\n",
       "    .dataframe tbody tr th:only-of-type {\n",
       "        vertical-align: middle;\n",
       "    }\n",
       "\n",
       "    .dataframe tbody tr th {\n",
       "        vertical-align: top;\n",
       "    }\n",
       "\n",
       "    .dataframe thead th {\n",
       "        text-align: right;\n",
       "    }\n",
       "</style>\n",
       "<table border=\"1\" class=\"dataframe\">\n",
       "  <thead>\n",
       "    <tr style=\"text-align: right;\">\n",
       "      <th></th>\n",
       "      <th>origin</th>\n",
       "      <th>cylinders</th>\n",
       "      <th>displacement</th>\n",
       "      <th>horsepower</th>\n",
       "      <th>weight</th>\n",
       "      <th>acceleration</th>\n",
       "      <th>year</th>\n",
       "      <th>name</th>\n",
       "      <th>Kilometer_per_liter</th>\n",
       "    </tr>\n",
       "  </thead>\n",
       "  <tbody>\n",
       "    <tr>\n",
       "      <th>0</th>\n",
       "      <td>1</td>\n",
       "      <td>8</td>\n",
       "      <td>307.0</td>\n",
       "      <td>130</td>\n",
       "      <td>3504</td>\n",
       "      <td>12.0</td>\n",
       "      <td>1970</td>\n",
       "      <td>chevrolet chevelle malibu</td>\n",
       "      <td>7.652587</td>\n",
       "    </tr>\n",
       "    <tr>\n",
       "      <th>1</th>\n",
       "      <td>1</td>\n",
       "      <td>8</td>\n",
       "      <td>350.0</td>\n",
       "      <td>165</td>\n",
       "      <td>3693</td>\n",
       "      <td>11.5</td>\n",
       "      <td>1970</td>\n",
       "      <td>buick skylark 320</td>\n",
       "      <td>6.377156</td>\n",
       "    </tr>\n",
       "    <tr>\n",
       "      <th>2</th>\n",
       "      <td>1</td>\n",
       "      <td>8</td>\n",
       "      <td>318.0</td>\n",
       "      <td>150</td>\n",
       "      <td>3436</td>\n",
       "      <td>11.0</td>\n",
       "      <td>1970</td>\n",
       "      <td>plymouth satellite</td>\n",
       "      <td>7.652587</td>\n",
       "    </tr>\n",
       "    <tr>\n",
       "      <th>3</th>\n",
       "      <td>1</td>\n",
       "      <td>8</td>\n",
       "      <td>304.0</td>\n",
       "      <td>150</td>\n",
       "      <td>3433</td>\n",
       "      <td>12.0</td>\n",
       "      <td>1970</td>\n",
       "      <td>amc rebel sst</td>\n",
       "      <td>6.802299</td>\n",
       "    </tr>\n",
       "    <tr>\n",
       "      <th>4</th>\n",
       "      <td>1</td>\n",
       "      <td>8</td>\n",
       "      <td>302.0</td>\n",
       "      <td>140</td>\n",
       "      <td>3449</td>\n",
       "      <td>10.5</td>\n",
       "      <td>1970</td>\n",
       "      <td>ford torino</td>\n",
       "      <td>7.227443</td>\n",
       "    </tr>\n",
       "  </tbody>\n",
       "</table>\n",
       "</div>"
      ],
      "text/plain": [
       "   origin  cylinders  displacement horsepower  weight  acceleration  year  \\\n",
       "0       1          8         307.0        130    3504          12.0  1970   \n",
       "1       1          8         350.0        165    3693          11.5  1970   \n",
       "2       1          8         318.0        150    3436          11.0  1970   \n",
       "3       1          8         304.0        150    3433          12.0  1970   \n",
       "4       1          8         302.0        140    3449          10.5  1970   \n",
       "\n",
       "                        name  Kilometer_per_liter  \n",
       "0  chevrolet chevelle malibu             7.652587  \n",
       "1          buick skylark 320             6.377156  \n",
       "2         plymouth satellite             7.652587  \n",
       "3              amc rebel sst             6.802299  \n",
       "4                ford torino             7.227443  "
      ]
     },
     "execution_count": 3,
     "metadata": {},
     "output_type": "execute_result"
    }
   ],
   "source": [
    "df.head()"
   ]
  },
  {
   "cell_type": "code",
   "execution_count": 4,
   "metadata": {
    "id": "wxTkTh5B-e3v",
    "outputId": "6b7dd704-5e82-4ad5-aadc-a1cf4de053c2"
   },
   "outputs": [
    {
     "data": {
      "text/plain": [
       "(398, 9)"
      ]
     },
     "execution_count": 4,
     "metadata": {},
     "output_type": "execute_result"
    }
   ],
   "source": [
    "df.shape"
   ]
  },
  {
   "cell_type": "code",
   "execution_count": 5,
   "metadata": {
    "id": "iazpxlRP-e3w",
    "outputId": "efac0319-e33e-4ba7-e1b2-e6d0a1e1c1d8"
   },
   "outputs": [
    {
     "name": "stdout",
     "output_type": "stream",
     "text": [
      "<class 'pandas.core.frame.DataFrame'>\n",
      "RangeIndex: 398 entries, 0 to 397\n",
      "Data columns (total 9 columns):\n",
      " #   Column               Non-Null Count  Dtype  \n",
      "---  ------               --------------  -----  \n",
      " 0   origin               398 non-null    int64  \n",
      " 1   cylinders            398 non-null    int64  \n",
      " 2   displacement         398 non-null    float64\n",
      " 3   horsepower           398 non-null    object \n",
      " 4   weight               398 non-null    int64  \n",
      " 5   acceleration         398 non-null    float64\n",
      " 6   year                 398 non-null    int64  \n",
      " 7   name                 398 non-null    object \n",
      " 8   Kilometer_per_liter  398 non-null    float64\n",
      "dtypes: float64(3), int64(4), object(2)\n",
      "memory usage: 28.1+ KB\n"
     ]
    }
   ],
   "source": [
    "df.info()"
   ]
  },
  {
   "cell_type": "code",
   "execution_count": 6,
   "metadata": {
    "id": "JyqWwQZT-e3w",
    "outputId": "09d0e2d5-aade-4f5e-b80a-556cf4bbdc93"
   },
   "outputs": [
    {
     "data": {
      "text/plain": [
       "Index(['origin', 'cylinders', 'displacement', 'horsepower', 'weight',\n",
       "       'acceleration', 'year', 'name', 'Kilometer_per_liter'],\n",
       "      dtype='object')"
      ]
     },
     "execution_count": 6,
     "metadata": {},
     "output_type": "execute_result"
    }
   ],
   "source": [
    "df.columns"
   ]
  },
  {
   "cell_type": "code",
   "execution_count": 7,
   "metadata": {
    "id": "Pio0rG0s-e3x",
    "outputId": "ebf40e27-57ad-4b01-dad1-8e26e5fe38ab"
   },
   "outputs": [
    {
     "data": {
      "text/html": [
       "<div>\n",
       "<style scoped>\n",
       "    .dataframe tbody tr th:only-of-type {\n",
       "        vertical-align: middle;\n",
       "    }\n",
       "\n",
       "    .dataframe tbody tr th {\n",
       "        vertical-align: top;\n",
       "    }\n",
       "\n",
       "    .dataframe thead th {\n",
       "        text-align: right;\n",
       "    }\n",
       "</style>\n",
       "<table border=\"1\" class=\"dataframe\">\n",
       "  <thead>\n",
       "    <tr style=\"text-align: right;\">\n",
       "      <th></th>\n",
       "      <th>origin</th>\n",
       "      <th>cylinders</th>\n",
       "      <th>displacement</th>\n",
       "      <th>weight</th>\n",
       "      <th>acceleration</th>\n",
       "      <th>year</th>\n",
       "      <th>Kilometer_per_liter</th>\n",
       "    </tr>\n",
       "  </thead>\n",
       "  <tbody>\n",
       "    <tr>\n",
       "      <th>count</th>\n",
       "      <td>398.000000</td>\n",
       "      <td>398.000000</td>\n",
       "      <td>398.000000</td>\n",
       "      <td>398.000000</td>\n",
       "      <td>398.000000</td>\n",
       "      <td>398.000000</td>\n",
       "      <td>398.000000</td>\n",
       "    </tr>\n",
       "    <tr>\n",
       "      <th>mean</th>\n",
       "      <td>1.572864</td>\n",
       "      <td>5.454774</td>\n",
       "      <td>193.425879</td>\n",
       "      <td>2970.424623</td>\n",
       "      <td>15.568090</td>\n",
       "      <td>1976.010050</td>\n",
       "      <td>9.997073</td>\n",
       "    </tr>\n",
       "    <tr>\n",
       "      <th>std</th>\n",
       "      <td>0.802055</td>\n",
       "      <td>1.701004</td>\n",
       "      <td>104.269838</td>\n",
       "      <td>846.841774</td>\n",
       "      <td>2.757689</td>\n",
       "      <td>3.697627</td>\n",
       "      <td>3.322917</td>\n",
       "    </tr>\n",
       "    <tr>\n",
       "      <th>min</th>\n",
       "      <td>1.000000</td>\n",
       "      <td>3.000000</td>\n",
       "      <td>68.000000</td>\n",
       "      <td>1613.000000</td>\n",
       "      <td>8.000000</td>\n",
       "      <td>1970.000000</td>\n",
       "      <td>3.826293</td>\n",
       "    </tr>\n",
       "    <tr>\n",
       "      <th>25%</th>\n",
       "      <td>1.000000</td>\n",
       "      <td>4.000000</td>\n",
       "      <td>104.250000</td>\n",
       "      <td>2223.750000</td>\n",
       "      <td>13.825000</td>\n",
       "      <td>1973.000000</td>\n",
       "      <td>7.440015</td>\n",
       "    </tr>\n",
       "    <tr>\n",
       "      <th>50%</th>\n",
       "      <td>1.000000</td>\n",
       "      <td>4.000000</td>\n",
       "      <td>148.500000</td>\n",
       "      <td>2803.500000</td>\n",
       "      <td>15.500000</td>\n",
       "      <td>1976.000000</td>\n",
       "      <td>9.778305</td>\n",
       "    </tr>\n",
       "    <tr>\n",
       "      <th>75%</th>\n",
       "      <td>2.000000</td>\n",
       "      <td>8.000000</td>\n",
       "      <td>262.000000</td>\n",
       "      <td>3608.000000</td>\n",
       "      <td>17.175000</td>\n",
       "      <td>1979.000000</td>\n",
       "      <td>12.329168</td>\n",
       "    </tr>\n",
       "    <tr>\n",
       "      <th>max</th>\n",
       "      <td>3.000000</td>\n",
       "      <td>8.000000</td>\n",
       "      <td>455.000000</td>\n",
       "      <td>5140.000000</td>\n",
       "      <td>24.800000</td>\n",
       "      <td>1982.000000</td>\n",
       "      <td>19.811697</td>\n",
       "    </tr>\n",
       "  </tbody>\n",
       "</table>\n",
       "</div>"
      ],
      "text/plain": [
       "           origin   cylinders  displacement       weight  acceleration  \\\n",
       "count  398.000000  398.000000    398.000000   398.000000    398.000000   \n",
       "mean     1.572864    5.454774    193.425879  2970.424623     15.568090   \n",
       "std      0.802055    1.701004    104.269838   846.841774      2.757689   \n",
       "min      1.000000    3.000000     68.000000  1613.000000      8.000000   \n",
       "25%      1.000000    4.000000    104.250000  2223.750000     13.825000   \n",
       "50%      1.000000    4.000000    148.500000  2803.500000     15.500000   \n",
       "75%      2.000000    8.000000    262.000000  3608.000000     17.175000   \n",
       "max      3.000000    8.000000    455.000000  5140.000000     24.800000   \n",
       "\n",
       "              year  Kilometer_per_liter  \n",
       "count   398.000000           398.000000  \n",
       "mean   1976.010050             9.997073  \n",
       "std       3.697627             3.322917  \n",
       "min    1970.000000             3.826293  \n",
       "25%    1973.000000             7.440015  \n",
       "50%    1976.000000             9.778305  \n",
       "75%    1979.000000            12.329168  \n",
       "max    1982.000000            19.811697  "
      ]
     },
     "execution_count": 7,
     "metadata": {},
     "output_type": "execute_result"
    }
   ],
   "source": [
    "df.describe()"
   ]
  },
  {
   "cell_type": "code",
   "execution_count": null,
   "metadata": {
    "id": "e6Jpy6b1-e3x"
   },
   "outputs": [],
   "source": []
  },
  {
   "cell_type": "code",
   "execution_count": 8,
   "metadata": {
    "id": "hIB9a9V5-e3y",
    "outputId": "0b028ff0-1027-4c01-bdba-c1e914d25477"
   },
   "outputs": [
    {
     "data": {
      "image/png": "[encoded data removed]",
      "text/plain": [
       "<Figure size 864x648 with 1 Axes>"
      ]
     },
     "metadata": {
      "needs_background": "light"
     },
     "output_type": "display_data"
    },
    {
     "data": {
      "image/png": "[encoded data removed]",
      "text/plain": [
       "<Figure size 432x288 with 1 Axes>"
      ]
     },
     "metadata": {
      "needs_background": "light"
     },
     "output_type": "display_data"
    }
   ],
   "source": [
    "plt.subplots(figsize =(12,9))\n",
    "sns.distplot(df['Kilometer_per_liter'], fit = stats.norm)\n",
    "\n",
    "#get the fitted parameter used by the function\n",
    "(mu,sigma) = stats.norm.fit(df['Kilometer_per_liter'])\n",
    "\n",
    "#plot with the distribution\n",
    "plt.legend(['Normal dist. ($\\mu=${:.2f} and $\\sigma={:.2f})'.format(mu,sigma)], loc='best')\n",
    "\n",
    "#Probability Plot\n",
    "fig = plt.figure()\n",
    "stats.probplot(df['Kilometer_per_liter'], plot=plt)\n",
    "plt.show()"
   ]
  },
  {
   "cell_type": "markdown",
   "metadata": {},
   "source": [
    "### Step 2: Checking for the Null values"
   ]
  },
  {
   "cell_type": "code",
   "execution_count": 9,
   "metadata": {
    "id": "4FMe8mn_-e3z",
    "outputId": "0139f708-d2cd-41a6-8b3f-2a34ab8de0e5"
   },
   "outputs": [
    {
     "data": {
      "text/plain": [
       "Index([], dtype='object')"
      ]
     },
     "execution_count": 9,
     "metadata": {},
     "output_type": "execute_result"
    }
   ],
   "source": [
    "df.columns[df.isnull().any()]"
   ]
  },
  {
   "cell_type": "code",
   "execution_count": 10,
   "metadata": {
    "id": "bQ9B_Evq-e3z",
    "outputId": "70107cca-dc3b-4970-a69b-77d01dadd1e6"
   },
   "outputs": [
    {
     "data": {
      "text/plain": [
       "False"
      ]
     },
     "execution_count": 10,
     "metadata": {},
     "output_type": "execute_result"
    }
   ],
   "source": [
    "df.isna().values.any()"
   ]
  },
  {
   "cell_type": "code",
   "execution_count": 11,
   "metadata": {
    "id": "ATvl5_vf-e30",
    "outputId": "079334d0-f404-40ee-ebee-37ee02203c26"
   },
   "outputs": [
    {
     "data": {
      "text/plain": [
       "150    22\n",
       "90     20\n",
       "88     19\n",
       "110    18\n",
       "100    17\n",
       "Name: horsepower, dtype: int64"
      ]
     },
     "execution_count": 11,
     "metadata": {},
     "output_type": "execute_result"
    }
   ],
   "source": [
    "df.horsepower.value_counts().head()"
   ]
  },
  {
   "cell_type": "code",
   "execution_count": 12,
   "metadata": {
    "id": "_3nXX0XL-e30"
   },
   "outputs": [],
   "source": [
    "df.replace('?', np.nan, inplace = True)"
   ]
  },
  {
   "cell_type": "code",
   "execution_count": 13,
   "metadata": {
    "id": "0laSlQud-e30",
    "outputId": "ad649b90-79e5-4863-ba05-7f0707d35236"
   },
   "outputs": [
    {
     "data": {
      "text/plain": [
       "origin                 0\n",
       "cylinders              0\n",
       "displacement           0\n",
       "horsepower             6\n",
       "weight                 0\n",
       "acceleration           0\n",
       "year                   0\n",
       "name                   0\n",
       "Kilometer_per_liter    0\n",
       "dtype: int64"
      ]
     },
     "execution_count": 13,
     "metadata": {},
     "output_type": "execute_result"
    }
   ],
   "source": [
    "df.isna().sum()"
   ]
  },
  {
   "cell_type": "code",
   "execution_count": 14,
   "metadata": {
    "id": "SdjGot7Y-e31",
    "outputId": "633ad5aa-25e1-40f0-97c1-aebd6d1b5a1c"
   },
   "outputs": [
    {
     "data": {
      "text/plain": [
       "104.46938775510205"
      ]
     },
     "execution_count": 14,
     "metadata": {},
     "output_type": "execute_result"
    }
   ],
   "source": [
    "avg_hp = df['horsepower'].astype('float').mean(axis=0)\n",
    "avg_hp"
   ]
  },
  {
   "cell_type": "code",
   "execution_count": 15,
   "metadata": {
    "id": "n1FXa2km-e31"
   },
   "outputs": [],
   "source": [
    "df['horsepower'].replace(np.nan, avg_hp, inplace=True)  "
   ]
  },
  {
   "cell_type": "code",
   "execution_count": 16,
   "metadata": {
    "id": "j0DdKHl--e31",
    "outputId": "eb6d5a2f-babc-4811-c244-7df822f2bee9"
   },
   "outputs": [
    {
     "data": {
      "text/plain": [
       "origin                 0\n",
       "cylinders              0\n",
       "displacement           0\n",
       "horsepower             0\n",
       "weight                 0\n",
       "acceleration           0\n",
       "year                   0\n",
       "name                   0\n",
       "Kilometer_per_liter    0\n",
       "dtype: int64"
      ]
     },
     "execution_count": 16,
     "metadata": {},
     "output_type": "execute_result"
    }
   ],
   "source": [
    "df.isna().sum()"
   ]
  },
  {
   "cell_type": "code",
   "execution_count": 17,
   "metadata": {
    "id": "BgcHx-03-e31"
   },
   "outputs": [],
   "source": [
    "df[['horsepower']] = df[['horsepower']].astype('float')"
   ]
  },
  {
   "cell_type": "code",
   "execution_count": 18,
   "metadata": {
    "id": "eDpMZlGQ-e32",
    "outputId": "cf35ecc2-9a92-4699-dad2-016dc5f6cc11"
   },
   "outputs": [
    {
     "name": "stdout",
     "output_type": "stream",
     "text": [
      "<class 'pandas.core.frame.DataFrame'>\n",
      "RangeIndex: 398 entries, 0 to 397\n",
      "Data columns (total 9 columns):\n",
      " #   Column               Non-Null Count  Dtype  \n",
      "---  ------               --------------  -----  \n",
      " 0   origin               398 non-null    int64  \n",
      " 1   cylinders            398 non-null    int64  \n",
      " 2   displacement         398 non-null    float64\n",
      " 3   horsepower           398 non-null    float64\n",
      " 4   weight               398 non-null    int64  \n",
      " 5   acceleration         398 non-null    float64\n",
      " 6   year                 398 non-null    int64  \n",
      " 7   name                 398 non-null    object \n",
      " 8   Kilometer_per_liter  398 non-null    float64\n",
      "dtypes: float64(4), int64(4), object(1)\n",
      "memory usage: 28.1+ KB\n"
     ]
    }
   ],
   "source": [
    "df.info()"
   ]
  },
  {
   "cell_type": "code",
   "execution_count": 19,
   "metadata": {
    "id": "hAXzypSl-e32"
   },
   "outputs": [],
   "source": [
    "df = df.drop(['name'], axis=1)"
   ]
  },
  {
   "cell_type": "code",
   "execution_count": 20,
   "metadata": {
    "id": "SODrEo1K-e33",
    "outputId": "05abffee-18f5-4ff8-b1ba-b528c7902d20"
   },
   "outputs": [
    {
     "data": {
      "text/html": [
       "<div>\n",
       "<style scoped>\n",
       "    .dataframe tbody tr th:only-of-type {\n",
       "        vertical-align: middle;\n",
       "    }\n",
       "\n",
       "    .dataframe tbody tr th {\n",
       "        vertical-align: top;\n",
       "    }\n",
       "\n",
       "    .dataframe thead th {\n",
       "        text-align: right;\n",
       "    }\n",
       "</style>\n",
       "<table border=\"1\" class=\"dataframe\">\n",
       "  <thead>\n",
       "    <tr style=\"text-align: right;\">\n",
       "      <th></th>\n",
       "      <th>origin</th>\n",
       "      <th>cylinders</th>\n",
       "      <th>displacement</th>\n",
       "      <th>horsepower</th>\n",
       "      <th>weight</th>\n",
       "      <th>acceleration</th>\n",
       "      <th>year</th>\n",
       "      <th>Kilometer_per_liter</th>\n",
       "    </tr>\n",
       "  </thead>\n",
       "  <tbody>\n",
       "    <tr>\n",
       "      <th>0</th>\n",
       "      <td>1</td>\n",
       "      <td>8</td>\n",
       "      <td>307.0</td>\n",
       "      <td>130.0</td>\n",
       "      <td>3504</td>\n",
       "      <td>12.0</td>\n",
       "      <td>1970</td>\n",
       "      <td>7.652587</td>\n",
       "    </tr>\n",
       "    <tr>\n",
       "      <th>1</th>\n",
       "      <td>1</td>\n",
       "      <td>8</td>\n",
       "      <td>350.0</td>\n",
       "      <td>165.0</td>\n",
       "      <td>3693</td>\n",
       "      <td>11.5</td>\n",
       "      <td>1970</td>\n",
       "      <td>6.377156</td>\n",
       "    </tr>\n",
       "    <tr>\n",
       "      <th>2</th>\n",
       "      <td>1</td>\n",
       "      <td>8</td>\n",
       "      <td>318.0</td>\n",
       "      <td>150.0</td>\n",
       "      <td>3436</td>\n",
       "      <td>11.0</td>\n",
       "      <td>1970</td>\n",
       "      <td>7.652587</td>\n",
       "    </tr>\n",
       "    <tr>\n",
       "      <th>3</th>\n",
       "      <td>1</td>\n",
       "      <td>8</td>\n",
       "      <td>304.0</td>\n",
       "      <td>150.0</td>\n",
       "      <td>3433</td>\n",
       "      <td>12.0</td>\n",
       "      <td>1970</td>\n",
       "      <td>6.802299</td>\n",
       "    </tr>\n",
       "    <tr>\n",
       "      <th>4</th>\n",
       "      <td>1</td>\n",
       "      <td>8</td>\n",
       "      <td>302.0</td>\n",
       "      <td>140.0</td>\n",
       "      <td>3449</td>\n",
       "      <td>10.5</td>\n",
       "      <td>1970</td>\n",
       "      <td>7.227443</td>\n",
       "    </tr>\n",
       "  </tbody>\n",
       "</table>\n",
       "</div>"
      ],
      "text/plain": [
       "   origin  cylinders  displacement  horsepower  weight  acceleration  year  \\\n",
       "0       1          8         307.0       130.0    3504          12.0  1970   \n",
       "1       1          8         350.0       165.0    3693          11.5  1970   \n",
       "2       1          8         318.0       150.0    3436          11.0  1970   \n",
       "3       1          8         304.0       150.0    3433          12.0  1970   \n",
       "4       1          8         302.0       140.0    3449          10.5  1970   \n",
       "\n",
       "   Kilometer_per_liter  \n",
       "0             7.652587  \n",
       "1             6.377156  \n",
       "2             7.652587  \n",
       "3             6.802299  \n",
       "4             7.227443  "
      ]
     },
     "execution_count": 20,
     "metadata": {},
     "output_type": "execute_result"
    }
   ],
   "source": [
    "df.head()"
   ]
  },
  {
   "cell_type": "code",
   "execution_count": 21,
   "metadata": {
    "id": "SVjxpt-E-e33",
    "outputId": "bbd2ff57-4811-452b-8afa-745176562adc"
   },
   "outputs": [
    {
     "data": {
      "text/plain": [
       "Kilometer_per_liter    1.000000\n",
       "year                   0.579267\n",
       "origin                 0.563450\n",
       "acceleration           0.420289\n",
       "Name: Kilometer_per_liter, dtype: float64"
      ]
     },
     "execution_count": 21,
     "metadata": {},
     "output_type": "execute_result"
    }
   ],
   "source": [
    "df.corr()['Kilometer_per_liter'][df.corr()['Kilometer_per_liter'] > 0.1].sort_values(ascending=False)"
   ]
  },
  {
   "cell_type": "code",
   "execution_count": 22,
   "metadata": {
    "id": "26stjT9p-e33"
   },
   "outputs": [],
   "source": [
    "#sns.regplot(x='acceleration', y='Kilometer_per_liter', data=df)"
   ]
  },
  {
   "cell_type": "code",
   "execution_count": 23,
   "metadata": {
    "id": "4AADU35b-e33"
   },
   "outputs": [],
   "source": [
    "#sns.regplot(x='year', y='Kilometer_per_liter', data=df)"
   ]
  },
  {
   "cell_type": "code",
   "execution_count": 24,
   "metadata": {
    "id": "Fg95TRnv-e34"
   },
   "outputs": [],
   "source": [
    "#sns.regplot(x='cylinders', y='Kilometer_per_liter', data=df)"
   ]
  },
  {
   "cell_type": "code",
   "execution_count": 25,
   "metadata": {
    "id": "k1VdUEIB-e34"
   },
   "outputs": [],
   "source": [
    "#sns.regplot(x='displacement', y='Kilometer_per_liter', data=df)"
   ]
  },
  {
   "cell_type": "code",
   "execution_count": 26,
   "metadata": {
    "id": "Xc8EMM-k-e34"
   },
   "outputs": [],
   "source": [
    "#sns.regplot(x='weight', y='Kilometer_per_liter', data=df)"
   ]
  },
  {
   "cell_type": "markdown",
   "metadata": {
    "id": "5epIOB16-e34"
   },
   "source": [
    "### Step 3:  Base Line Model"
   ]
  },
  {
   "cell_type": "code",
   "execution_count": 27,
   "metadata": {
    "id": "9lE3aY---e35"
   },
   "outputs": [],
   "source": [
    "y = df['Kilometer_per_liter']\n",
    "x = df.drop('Kilometer_per_liter', axis=1)"
   ]
  },
  {
   "cell_type": "code",
   "execution_count": 28,
   "metadata": {
    "id": "yP9GwlJy-e36"
   },
   "outputs": [],
   "source": [
    "lm = LinearRegression()"
   ]
  },
  {
   "cell_type": "code",
   "execution_count": 29,
   "metadata": {
    "id": "mEpQ3UgQ-e36",
    "outputId": "2c8d2a91-5417-4413-b34e-bf58e40d6d6f"
   },
   "outputs": [
    {
     "data": {
      "text/plain": [
       "LinearRegression()"
      ]
     },
     "execution_count": 29,
     "metadata": {},
     "output_type": "execute_result"
    }
   ],
   "source": [
    "lm.fit(x,y)"
   ]
  },
  {
   "cell_type": "code",
   "execution_count": 30,
   "metadata": {
    "id": "XK6r4V3B-e36"
   },
   "outputs": [],
   "source": [
    "yhat = lm.predict(x)"
   ]
  },
  {
   "cell_type": "code",
   "execution_count": 31,
   "metadata": {
    "id": "Yk-9yZuR-e37",
    "outputId": "af1dd0f6-6a73-4cad-940f-78e0b2ad833a"
   },
   "outputs": [
    {
     "name": "stdout",
     "output_type": "stream",
     "text": [
      "R_sq using Linear Regression: 0.8209019153884958\n",
      "MSE using Linear Regression: 1.972591897574898\n",
      "RMSE using Linear Regression: 1.404489906540769\n"
     ]
    }
   ],
   "source": [
    "print('R_sq using Linear Regression:', r2_score(df['Kilometer_per_liter'], yhat))\n",
    "print('MSE using Linear Regression:', mean_squared_error(df['Kilometer_per_liter'], yhat))\n",
    "print('RMSE using Linear Regression:', np.sqrt(mean_squared_error(df['Kilometer_per_liter'], yhat)))"
   ]
  },
  {
   "cell_type": "code",
   "execution_count": 32,
   "metadata": {
    "id": "Vt_HMoFR-e37",
    "outputId": "1968f2e2-8234-411f-f6f4-34b6e3aa557c"
   },
   "outputs": [
    {
     "data": {
      "text/html": [
       "<div>\n",
       "<style scoped>\n",
       "    .dataframe tbody tr th:only-of-type {\n",
       "        vertical-align: middle;\n",
       "    }\n",
       "\n",
       "    .dataframe tbody tr th {\n",
       "        vertical-align: top;\n",
       "    }\n",
       "\n",
       "    .dataframe thead th {\n",
       "        text-align: right;\n",
       "    }\n",
       "</style>\n",
       "<table border=\"1\" class=\"dataframe\">\n",
       "  <thead>\n",
       "    <tr style=\"text-align: right;\">\n",
       "      <th></th>\n",
       "      <th>origin</th>\n",
       "      <th>cylinders</th>\n",
       "      <th>displacement</th>\n",
       "      <th>horsepower</th>\n",
       "      <th>weight</th>\n",
       "      <th>acceleration</th>\n",
       "      <th>year</th>\n",
       "      <th>Kilometer_per_liter</th>\n",
       "    </tr>\n",
       "  </thead>\n",
       "  <tbody>\n",
       "    <tr>\n",
       "      <th>0</th>\n",
       "      <td>1</td>\n",
       "      <td>8</td>\n",
       "      <td>307.0</td>\n",
       "      <td>130.0</td>\n",
       "      <td>3504</td>\n",
       "      <td>12.0</td>\n",
       "      <td>1970</td>\n",
       "      <td>7.652587</td>\n",
       "    </tr>\n",
       "    <tr>\n",
       "      <th>1</th>\n",
       "      <td>1</td>\n",
       "      <td>8</td>\n",
       "      <td>350.0</td>\n",
       "      <td>165.0</td>\n",
       "      <td>3693</td>\n",
       "      <td>11.5</td>\n",
       "      <td>1970</td>\n",
       "      <td>6.377156</td>\n",
       "    </tr>\n",
       "    <tr>\n",
       "      <th>2</th>\n",
       "      <td>1</td>\n",
       "      <td>8</td>\n",
       "      <td>318.0</td>\n",
       "      <td>150.0</td>\n",
       "      <td>3436</td>\n",
       "      <td>11.0</td>\n",
       "      <td>1970</td>\n",
       "      <td>7.652587</td>\n",
       "    </tr>\n",
       "    <tr>\n",
       "      <th>3</th>\n",
       "      <td>1</td>\n",
       "      <td>8</td>\n",
       "      <td>304.0</td>\n",
       "      <td>150.0</td>\n",
       "      <td>3433</td>\n",
       "      <td>12.0</td>\n",
       "      <td>1970</td>\n",
       "      <td>6.802299</td>\n",
       "    </tr>\n",
       "    <tr>\n",
       "      <th>4</th>\n",
       "      <td>1</td>\n",
       "      <td>8</td>\n",
       "      <td>302.0</td>\n",
       "      <td>140.0</td>\n",
       "      <td>3449</td>\n",
       "      <td>10.5</td>\n",
       "      <td>1970</td>\n",
       "      <td>7.227443</td>\n",
       "    </tr>\n",
       "  </tbody>\n",
       "</table>\n",
       "</div>"
      ],
      "text/plain": [
       "   origin  cylinders  displacement  horsepower  weight  acceleration  year  \\\n",
       "0       1          8         307.0       130.0    3504          12.0  1970   \n",
       "1       1          8         350.0       165.0    3693          11.5  1970   \n",
       "2       1          8         318.0       150.0    3436          11.0  1970   \n",
       "3       1          8         304.0       150.0    3433          12.0  1970   \n",
       "4       1          8         302.0       140.0    3449          10.5  1970   \n",
       "\n",
       "   Kilometer_per_liter  \n",
       "0             7.652587  \n",
       "1             6.377156  \n",
       "2             7.652587  \n",
       "3             6.802299  \n",
       "4             7.227443  "
      ]
     },
     "execution_count": 32,
     "metadata": {},
     "output_type": "execute_result"
    }
   ],
   "source": [
    "df.head()"
   ]
  },
  {
   "cell_type": "markdown",
   "metadata": {
    "id": "X1bEk5OM-e37"
   },
   "source": [
    "### Step 4:  Standardization"
   ]
  },
  {
   "cell_type": "code",
   "execution_count": 33,
   "metadata": {
    "id": "UQhNB2DE-e37"
   },
   "outputs": [],
   "source": [
    "scale = StandardScaler()   "
   ]
  },
  {
   "cell_type": "code",
   "execution_count": 34,
   "metadata": {
    "id": "n9n24E98-e38"
   },
   "outputs": [],
   "source": [
    "x_sc = scale.fit_transform(x)"
   ]
  },
  {
   "cell_type": "code",
   "execution_count": 35,
   "metadata": {
    "id": "0pkw3d6t-e38"
   },
   "outputs": [],
   "source": [
    "lm_sc = lm.fit(x_sc, y)"
   ]
  },
  {
   "cell_type": "code",
   "execution_count": 36,
   "metadata": {
    "id": "SkDNgKzg-e38"
   },
   "outputs": [],
   "source": [
    "yhat_sc = lm.predict(x_sc)"
   ]
  },
  {
   "cell_type": "code",
   "execution_count": 37,
   "metadata": {
    "id": "fb2dSW3R-e38",
    "outputId": "923d1623-016e-4cdf-c2ff-212deae3829a"
   },
   "outputs": [
    {
     "name": "stdout",
     "output_type": "stream",
     "text": [
      "R_sq using Linear Regression: 0.820901915388496\n",
      "MSE using Linear Regression: 1.9725918975748962\n",
      "RMSE using Linear Regression: 1.4044899065407683\n"
     ]
    }
   ],
   "source": [
    "print('R_sq using Linear Regression:', r2_score(df['Kilometer_per_liter'], yhat_sc))\n",
    "print('MSE using Linear Regression:', mean_squared_error(df['Kilometer_per_liter'], yhat_sc))\n",
    "print('RMSE using Linear Regression:', np.sqrt(mean_squared_error(df['Kilometer_per_liter'], yhat_sc)))"
   ]
  },
  {
   "cell_type": "markdown",
   "metadata": {
    "id": "Wm-5WXnZ-e39"
   },
   "source": [
    "### Step 5:  Train Test Split and Linear Regression"
   ]
  },
  {
   "cell_type": "code",
   "execution_count": 38,
   "metadata": {
    "id": "xFuq6yK4-e39"
   },
   "outputs": [],
   "source": [
    "x_train, x_test, y_train, y_test =  train_test_split(x_sc, y, test_size = 0.3, random_state = 1)"
   ]
  },
  {
   "cell_type": "code",
   "execution_count": 39,
   "metadata": {
    "id": "MGyOyeik-e39"
   },
   "outputs": [],
   "source": [
    "model = LinearRegression()"
   ]
  },
  {
   "cell_type": "code",
   "execution_count": 40,
   "metadata": {
    "id": "PdK6Iu7f-e39",
    "outputId": "366ddac5-9ce7-4856-d6b3-b96489fb85a8"
   },
   "outputs": [
    {
     "data": {
      "text/plain": [
       "LinearRegression()"
      ]
     },
     "execution_count": 40,
     "metadata": {},
     "output_type": "execute_result"
    }
   ],
   "source": [
    "model.fit(x_train, y_train)"
   ]
  },
  {
   "cell_type": "code",
   "execution_count": 41,
   "metadata": {
    "id": "vQi4FyFe-e39",
    "outputId": "1874fbf8-6522-4d41-d450-79125f030889"
   },
   "outputs": [
    {
     "data": {
      "text/plain": [
       "11.22932172013844"
      ]
     },
     "execution_count": 41,
     "metadata": {},
     "output_type": "execute_result"
    }
   ],
   "source": [
    "y_pred = model.predict(x_test)\n",
    "y_pred[1]"
   ]
  },
  {
   "cell_type": "code",
   "execution_count": 42,
   "metadata": {
    "id": "KjpsPf_F-e39",
    "outputId": "75311d53-0234-4cf5-95e4-b0574b86c0ea"
   },
   "outputs": [
    {
     "name": "stdout",
     "output_type": "stream",
     "text": [
      "R_sq using Linear Regression: 0.8469962763466173\n",
      "MSE using Linear Regression: 1.6169027076249989\n",
      "RMSE using Linear Regression: 1.2715748926528074\n"
     ]
    }
   ],
   "source": [
    "print('R_sq using Linear Regression:', r2_score(y_test, y_pred))\n",
    "print('MSE using Linear Regression:', mean_squared_error(y_test, y_pred))\n",
    "print('RMSE using Linear Regression:', np.sqrt(mean_squared_error(y_test, y_pred)))"
   ]
  },
  {
   "cell_type": "code",
   "execution_count": 43,
   "metadata": {
    "id": "yzZ0_DI9-e3-",
    "outputId": "34d94b9e-65b5-4e0c-e7c7-b49ecfa231b1"
   },
   "outputs": [
    {
     "name": "stdout",
     "output_type": "stream",
     "text": [
      "Accuracy 84.69962763466174\n",
      "Accuracy 80.81709162389433\n"
     ]
    }
   ],
   "source": [
    "print('Accuracy', model.score(x_test, y_test)*100)\n",
    "print('Accuracy', model.score(x_train, y_train)*100)"
   ]
  },
  {
   "cell_type": "code",
   "execution_count": 44,
   "metadata": {
    "id": "3DNHuXRT-e3-",
    "outputId": "6990d5a5-04bc-4b5c-d4d1-e5aeec7a4827"
   },
   "outputs": [
    {
     "data": {
      "image/png": "[encoded data removed]",
      "text/plain": [
       "<Figure size 432x288 with 1 Axes>"
      ]
     },
     "metadata": {
      "needs_background": "light"
     },
     "output_type": "display_data"
    }
   ],
   "source": [
    "ax1 = sns.distplot(df['Kilometer_per_liter'], hist=False, color='r', label='Actual Values')\n",
    "sns.distplot(y_test, hist=False, color='b', label='Fitted values', ax=ax1)\n",
    "plt.title('Actual vs Fitted for Price')\n",
    "plt.xlabel('Parameters')\n",
    "plt.ylabel('Kilometer_per_liter')\n",
    "plt.show()"
   ]
  },
  {
   "cell_type": "markdown",
   "metadata": {
    "id": "cnKfLYwY-e3-"
   },
   "source": [
    "### Step 6:  Polynomial Regression"
   ]
  },
  {
   "cell_type": "code",
   "execution_count": 45,
   "metadata": {
    "id": "hsdY8oQz-e3-"
   },
   "outputs": [],
   "source": [
    "from sklearn.preprocessing import PolynomialFeatures\n",
    "pr = PolynomialFeatures(degree=2)"
   ]
  },
  {
   "cell_type": "code",
   "execution_count": 46,
   "metadata": {
    "id": "Mrz0VQbt-e3-"
   },
   "outputs": [],
   "source": [
    "x_pr_train = pr.fit_transform(x_train)   # train\n",
    "x_pr_test = pr.fit_transform(x_test)     # test"
   ]
  },
  {
   "cell_type": "code",
   "execution_count": 47,
   "metadata": {
    "id": "6u0bjM4N-e3-"
   },
   "outputs": [],
   "source": [
    "lm_pr = lm.fit(x_pr_train, y_train)"
   ]
  },
  {
   "cell_type": "code",
   "execution_count": 48,
   "metadata": {
    "id": "6YhFNzwm-e3_"
   },
   "outputs": [],
   "source": [
    "yhat_pr_train = lm.predict(x_pr_train) \n",
    "yhat_pr_test = lm.predict(x_pr_test) "
   ]
  },
  {
   "cell_type": "code",
   "execution_count": 49,
   "metadata": {
    "id": "vFVv4ebU-e3_",
    "outputId": "355c7700-1108-481e-b03d-aac448f02562"
   },
   "outputs": [
    {
     "name": "stdout",
     "output_type": "stream",
     "text": [
      "R_sq using Polynomial Regression: 0.8969709790888047\n",
      "MSE using Polynomial Regression: 1.1541546343344822\n",
      "RMSE using Polynomial Regression: 1.0743158913161819\n"
     ]
    }
   ],
   "source": [
    "print('R_sq using Polynomial Regression:', r2_score(y_train, yhat_pr_train))\n",
    "print('MSE using Polynomial Regression:', mean_squared_error(y_train, yhat_pr_train))\n",
    "print('RMSE using Polynomial Regression:', np.sqrt(mean_squared_error(y_train, yhat_pr_train)))"
   ]
  },
  {
   "cell_type": "code",
   "execution_count": 50,
   "metadata": {
    "id": "YHaF8K2A-e3_",
    "outputId": "c5546a68-a63f-4a09-a15f-750f0dc03b87"
   },
   "outputs": [
    {
     "name": "stdout",
     "output_type": "stream",
     "text": [
      "R_sq using Polynomial Regression: 0.8440097126054479\n",
      "MSE using Polynomial Regression: 1.6484639198902065\n",
      "RMSE using Polynomial Regression: 1.2839252002707193\n"
     ]
    }
   ],
   "source": [
    "print('R_sq using Polynomial Regression:', r2_score(y_test, yhat_pr_test))\n",
    "print('MSE using Polynomial Regression:', mean_squared_error(y_test, yhat_pr_test))\n",
    "print('RMSE using Polynomial Regression:', np.sqrt(mean_squared_error(y_test, yhat_pr_test)))"
   ]
  },
  {
   "cell_type": "code",
   "execution_count": 51,
   "metadata": {
    "id": "D86lBtQ9-e3_",
    "outputId": "6fba59f3-449e-44a6-fc65-dc072dd29254"
   },
   "outputs": [
    {
     "data": {
      "image/png": "[encoded data removed]",
      "text/plain": [
       "<Figure size 432x288 with 1 Axes>"
      ]
     },
     "metadata": {
      "needs_background": "light"
     },
     "output_type": "display_data"
    }
   ],
   "source": [
    "ax1 = sns.distplot(df['Kilometer_per_liter'], hist=False, color='r', label='Actual Values')\n",
    "sns.distplot(yhat_pr_test, hist=False, color='b', label='Fitted values', ax=ax1)\n",
    "plt.title('Actual vs Fitted for Price')\n",
    "plt.xlabel('Parameters')\n",
    "plt.ylabel('Kilometer_per_liter')\n",
    "plt.show()"
   ]
  },
  {
   "cell_type": "markdown",
   "metadata": {
    "id": "GfTmomEE-e4A"
   },
   "source": [
    "### Step 7:  Cross Validation"
   ]
  },
  {
   "cell_type": "code",
   "execution_count": 52,
   "metadata": {
    "id": "I7iRFQEM-e4A"
   },
   "outputs": [],
   "source": [
    "lre = LinearRegression()"
   ]
  },
  {
   "cell_type": "code",
   "execution_count": 53,
   "metadata": {
    "id": "LRUYG02M-e4B",
    "outputId": "144e3276-fda8-4983-96bc-e7e3f0fa0706"
   },
   "outputs": [
    {
     "data": {
      "text/plain": [
       "LinearRegression()"
      ]
     },
     "execution_count": 53,
     "metadata": {},
     "output_type": "execute_result"
    }
   ],
   "source": [
    "lre.fit(x_train, y_train)"
   ]
  },
  {
   "cell_type": "code",
   "execution_count": 54,
   "metadata": {
    "id": "AD5v0uxB-e4B",
    "outputId": "f9eee1b7-482a-46c4-e3d9-999a613b724a"
   },
   "outputs": [
    {
     "data": {
      "text/plain": [
       "0.8081709162389433"
      ]
     },
     "execution_count": 54,
     "metadata": {},
     "output_type": "execute_result"
    }
   ],
   "source": [
    "lre.score(x_train, y_train)"
   ]
  },
  {
   "cell_type": "code",
   "execution_count": 55,
   "metadata": {
    "id": "9uWkJsS2-e4B",
    "outputId": "37cb9461-f2e2-4c8a-c3ec-9006ea7b6b00"
   },
   "outputs": [
    {
     "data": {
      "text/plain": [
       "0.8469962763466173"
      ]
     },
     "execution_count": 55,
     "metadata": {},
     "output_type": "execute_result"
    }
   ],
   "source": [
    "lre.score(x_test, y_test)"
   ]
  },
  {
   "cell_type": "code",
   "execution_count": 56,
   "metadata": {
    "id": "tg1CvfBx-e4C"
   },
   "outputs": [],
   "source": [
    "Rcross = cross_val_score(lre, x_sc, y, cv=5)"
   ]
  },
  {
   "cell_type": "code",
   "execution_count": 57,
   "metadata": {
    "id": "lQ_Ht_RV-e4C",
    "outputId": "cbd4431c-5fee-4fe5-f35e-191a4e9ef506"
   },
   "outputs": [
    {
     "data": {
      "text/plain": [
       "array([0.57146512, 0.68566715, 0.82348905, 0.68191796, 0.21527776])"
      ]
     },
     "execution_count": 57,
     "metadata": {},
     "output_type": "execute_result"
    }
   ],
   "source": [
    "Rcross"
   ]
  },
  {
   "cell_type": "markdown",
   "metadata": {
    "id": "El-3HeC8-e4C"
   },
   "source": [
    "### Step 8:  Grid Search for Hyper Parameter Tuning"
   ]
  },
  {
   "cell_type": "code",
   "execution_count": 58,
   "metadata": {
    "id": "HuGAWkU7-e4C"
   },
   "outputs": [],
   "source": [
    "parameters1 = [{'alpha':[0.001,0.1,1,10,100,1000,10000,100000]}]"
   ]
  },
  {
   "cell_type": "code",
   "execution_count": 59,
   "metadata": {
    "id": "Ytni26eQ-e4C",
    "outputId": "5eee1c40-6e34-4c6a-8796-875f3f7cc97f"
   },
   "outputs": [
    {
     "data": {
      "text/plain": [
       "Ridge()"
      ]
     },
     "execution_count": 59,
     "metadata": {},
     "output_type": "execute_result"
    }
   ],
   "source": [
    "RR = Ridge()\n",
    "RR"
   ]
  },
  {
   "cell_type": "code",
   "execution_count": 60,
   "metadata": {
    "id": "-KsIGY-W-e4C"
   },
   "outputs": [],
   "source": [
    "Grid1 = GridSearchCV(RR, parameters1, cv=4)"
   ]
  },
  {
   "cell_type": "code",
   "execution_count": 61,
   "metadata": {
    "id": "YJHIiWrN-e4C",
    "outputId": "9bc059a2-3e81-4332-ce87-5c8f219d1c24"
   },
   "outputs": [
    {
     "data": {
      "text/plain": [
       "GridSearchCV(cv=4, estimator=Ridge(),\n",
       "             param_grid=[{'alpha': [0.001, 0.1, 1, 10, 100, 1000, 10000,\n",
       "                                    100000]}])"
      ]
     },
     "execution_count": 61,
     "metadata": {},
     "output_type": "execute_result"
    }
   ],
   "source": [
    "Grid1.fit(x_train, y_train)"
   ]
  },
  {
   "cell_type": "code",
   "execution_count": 62,
   "metadata": {
    "id": "Z-Ye5AIm-e4D",
    "outputId": "7ca2e4d2-4481-4b91-851f-f3fdc52cc5a0"
   },
   "outputs": [
    {
     "data": {
      "text/plain": [
       "Ridge(alpha=1)"
      ]
     },
     "execution_count": 62,
     "metadata": {},
     "output_type": "execute_result"
    }
   ],
   "source": [
    "BestRR= Grid1.best_estimator_\n",
    "BestRR"
   ]
  },
  {
   "cell_type": "code",
   "execution_count": 63,
   "metadata": {
    "id": "tXnRoXgA-e4D",
    "outputId": "1348c7eb-f1ac-4f05-f7b4-952510e946a9"
   },
   "outputs": [
    {
     "data": {
      "text/plain": [
       "0.8478194554026566"
      ]
     },
     "execution_count": 63,
     "metadata": {},
     "output_type": "execute_result"
    }
   ],
   "source": [
    "BestRR.score(x_test, y_test)"
   ]
  },
  {
   "cell_type": "code",
   "execution_count": null,
   "metadata": {
    "id": "xwwe_ZNZ-e4D"
   },
   "outputs": [],
   "source": []
  }
 ],
 "metadata": {
  "colab": {
   "name": "Mohit Bhagat Vehicle performance Prediction .ipynb",
   "provenance": []
  },
  "kernelspec": {
   "display_name": "Python 3",
   "language": "python",
   "name": "python3"
  },
  "language_info": {
   "codemirror_mode": {
    "name": "ipython",
    "version": 3
   },
   "file_extension": ".py",
   "mimetype": "text/x-python",
   "name": "python",
   "nbconvert_exporter": "python",
   "pygments_lexer": "ipython3",
   "version": "3.8.8"
  }
 },
 "nbformat": 4,
 "nbformat_minor": 4
}
